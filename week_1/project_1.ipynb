{
 "cells": [
  {
   "cell_type": "code",
   "execution_count": 4,
   "id": "b06e225e-4857-4532-982c-7ff08093dfb4",
   "metadata": {},
   "outputs": [
    {
     "name": "stdin",
     "output_type": "stream",
     "text": [
      "Enter Principal Amount:  1\n",
      "Enter Annual Interest Rate (%):  23\n",
      "Enter Time (years):  43\n"
     ]
    },
    {
     "name": "stdout",
     "output_type": "stream",
     "text": [
      "Simple Interest Amount: 10.89\n"
     ]
    },
    {
     "name": "stdin",
     "output_type": "stream",
     "text": [
      "Enter Number of Times Interest is Compounded Per Year:  2\n"
     ]
    },
    {
     "name": "stdout",
     "output_type": "stream",
     "text": [
      "Compound Interest Amount: 11631.58\n"
     ]
    },
    {
     "name": "stdin",
     "output_type": "stream",
     "text": [
      "Enter Regular Payment Amount:  2\n"
     ]
    },
    {
     "name": "stdout",
     "output_type": "stream",
     "text": [
      "Annuity Plan Amount: 202270.90\n"
     ]
    }
   ],
   "source": [
    "def simple_interest(P, R, T):\n",
    "    A = P * (1 + (R / 100) * T)\n",
    "    return A\n",
    "\n",
    "def compound_interest(P, R, n, t):\n",
    "    A = P * (1 + R / (n * 100))**(n * t)\n",
    "    return A\n",
    "\n",
    "def annuity_plan(PMT, R, n, t):\n",
    "    R_decimal = R / (n * 100)\n",
    "    A = PMT * ((1 + R_decimal) ** (n * t) - 1) / R_decimal\n",
    "    return A\n",
    "\n",
    "P = float(input(\"Enter Principal Amount: \"))\n",
    "R = float(input(\"Enter Annual Interest Rate (%): \"))\n",
    "T = float(input(\"Enter Time (years): \"))\n",
    "\n",
    "A_si = simple_interest(P, R, T)\n",
    "print(f\"Simple Interest Amount: {A_si:.2f}\")\n",
    "\n",
    "n = int(input(\"Enter Number of Times Interest is Compounded Per Year: \"))\n",
    "A_ci = compound_interest(P, R, n, T)\n",
    "print(f\"Compound Interest Amount: {A_ci:.2f}\")\n",
    "\n",
    "PMT = float(input(\"Enter Regular Payment Amount: \"))\n",
    "A_ap = annuity_plan(PMT, R, n, T)\n",
    "print(f\"Annuity Plan Amount: {A_ap:.2f}\")\n"
   ]
  },
  {
   "cell_type": "code",
   "execution_count": null,
   "id": "d73cd8da-4631-4f59-9d02-6ab0dd268cd7",
   "metadata": {},
   "outputs": [],
   "source": []
  }
 ],
 "metadata": {
  "kernelspec": {
   "display_name": "Python [conda env:base] *",
   "language": "python",
   "name": "conda-base-py"
  },
  "language_info": {
   "codemirror_mode": {
    "name": "ipython",
    "version": 3
   },
   "file_extension": ".py",
   "mimetype": "text/x-python",
   "name": "python",
   "nbconvert_exporter": "python",
   "pygments_lexer": "ipython3",
   "version": "3.12.7"
  }
 },
 "nbformat": 4,
 "nbformat_minor": 5
}
